{
 "cells": [
  {
   "cell_type": "markdown",
   "id": "aef8a598",
   "metadata": {},
   "source": [
    "## Coding Exercise 1.10."
   ]
  },
  {
   "cell_type": "code",
   "execution_count": 1,
   "id": "e30a6a0e",
   "metadata": {},
   "outputs": [
    {
     "name": "stdout",
     "output_type": "stream",
     "text": [
      "There was once a pilot who loved adventure\n",
      "pilot would take her plane to unknown places.\n",
      "She brings home a lot of fruits\n",
      "Then she goes home to her pet lion, Chuckles\n",
      "\n",
      "\n",
      "There was once a pirate who loved adventure\n",
      "pirate would take her ship to unknown places.\n",
      "She brings home a lot of gold\n",
      "Then she goes home to her pet parrot, Chuckles\n"
     ]
    }
   ],
   "source": [
    "character_job = \"pilot\"\n",
    "character_ride = \"plane\"\n",
    "character_souvenir = \"fruits\"\n",
    "character_pet = \"lion\"\n",
    "\n",
    "# Original Text\n",
    "print(\"There was once a \" + character_job + \" who loved adventure\")\n",
    "print(character_job + \" would take her \" + character_ride + \" to unknown places.\")\n",
    "print(\"She brings home a lot of \" + character_souvenir)\n",
    "print(\"Then she goes home to her pet \" + character_pet + \", Chuckles\")\n",
    "\n",
    "print(\"\\n\")\n",
    "\n",
    "character_job = \"pirate\"\n",
    "character_ride = \"ship\"\n",
    "character_souvenir = \"gold\"\n",
    "character_pet = \"parrot\"\n",
    "\n",
    "# New Text\n",
    "print(\"There was once a \" + character_job + \" who loved adventure\")\n",
    "print(character_job + \" would take her \" + character_ride + \" to unknown places.\")\n",
    "print(\"She brings home a lot of \" + character_souvenir)\n",
    "print(\"Then she goes home to her pet \" + character_pet + \", Chuckles\")"
   ]
  },
  {
   "cell_type": "markdown",
   "id": "f5f6a2c9",
   "metadata": {},
   "source": [
    "## Coding Exercise 1.14"
   ]
  },
  {
   "cell_type": "code",
   "execution_count": null,
   "id": "03c06e05",
   "metadata": {},
   "outputs": [],
   "source": [
    "# printRoses are red, violets are blue\n",
    "print(\"Roses are red, violets are blue\")\n",
    "\n",
    "# if 10<7\n",
    "# print(\"Ten is greater than seven!\")\n",
    "# if 16<42\n",
    "# print(\"Sixteen is less than forty-two!\")\n",
    "if 10 > 7:\n",
    "    print(\"Ten is greater than seven!\")\n",
    "if 16 < 42:\n",
    "    print(\"Sixteen is less than forty-two!\")\n",
    "\n",
    "# print(\"A long time ago in a galaxy far, far away...\");\n",
    "print(\"A long time ago in a galaxy far, far away...\")"
   ]
  },
  {
   "cell_type": "markdown",
   "id": "44d07986",
   "metadata": {},
   "source": [
    "## Coding Exercise 2.11"
   ]
  },
  {
   "cell_type": "code",
   "execution_count": null,
   "id": "07f1c882",
   "metadata": {},
   "outputs": [],
   "source": [
    "print(10 > 7)\n",
    "print(str(73911))\n",
    "print(tuple(\"Thank God it's Friday!\"))\n",
    "print(float(4302))\n",
    "print(int(3299.35640))"
   ]
  },
  {
   "cell_type": "markdown",
   "id": "8a0c36b8",
   "metadata": {},
   "source": [
    "## Coding Exercise 2.3"
   ]
  },
  {
   "cell_type": "code",
   "execution_count": null,
   "id": "e1901b42",
   "metadata": {},
   "outputs": [],
   "source": [
    "def greeting(name):\n",
    "    print(\"Have a nice day, \" + name + \"!\")\n",
    "\n",
    "\n",
    "greeting(\"Jeanne\")"
   ]
  },
  {
   "cell_type": "markdown",
   "id": "a37797dc",
   "metadata": {},
   "source": [
    "## Coding Exercise 2.7"
   ]
  },
  {
   "cell_type": "code",
   "execution_count": null,
   "id": "d0e475da",
   "metadata": {},
   "outputs": [],
   "source": [
    "name = input(\"Name: \")\n",
    "age = input(\"Age: \")\n",
    "fav_color = input(\"Favorite Color: \")\n",
    "fav_movie = input(\"Favorite Movie: \")\n",
    "mobile_no = input(\"Mobile number: \")\n",
    "motto = input(\"Motto in life: \")"
   ]
  },
  {
   "cell_type": "markdown",
   "id": "07d510a2",
   "metadata": {},
   "source": [
    "## Coding Exercise 3.4"
   ]
  },
  {
   "cell_type": "code",
   "execution_count": null,
   "id": "7ad45a01",
   "metadata": {},
   "outputs": [],
   "source": [
    "class Customers:\n",
    "    greeting = \"Welcome to Coffee Palace, \"\n",
    "\n",
    "    def __init__(self, name, beverage, food, total):\n",
    "        self.name = name\n",
    "        self.beverage = beverage\n",
    "        self.food = food\n",
    "        self.total = total\n",
    "\n",
    "c_1 = Customers(\"Nate\", \"Espresso\", \"Pastrami on rye\", 220)\n",
    "c_2 = Customers(\"Elaine\", \"Strawberry frappucino\", \"Tuna wrap\", 270)\n",
    "c_3 = Customers(\"Samirah\", \"Iced caffe latte\", \"Cinnamon roll\", 225)\n",
    "c_4 = Customers(\"Jerry\", \"Caramel macchiato\", \"Glazed doughnut\", 230)\n",
    "c_5 = Customers(\"Paz\", \"Iced tea\", \"Blueberry pancakes\", 315)\n",
    "\n",
    "print(Customers.greeting + c_2.name + \"!\")\n",
    "print(c_2.food)\n",
    "print(c_2.beverage)\n",
    "print(c_2.total)\n",
    "\n",
    "print(Customers.greeting + c_4.name + \"!\")\n",
    "print(c_4.food)\n",
    "print(c_4.beverage)\n",
    "print(c_4.total)"
   ]
  },
  {
   "cell_type": "markdown",
   "id": "e7087ea1",
   "metadata": {},
   "source": [
    "## Coding Exercise 3.8"
   ]
  },
  {
   "cell_type": "code",
   "execution_count": 2,
   "id": "e2340a5e",
   "metadata": {},
   "outputs": [
    {
     "name": "stdout",
     "output_type": "stream",
     "text": [
      "1302\n",
      "35834\n",
      "5\n",
      "355\n",
      "45435424\n"
     ]
    }
   ],
   "source": [
    "print(217*6)\n",
    "print(600+35234)\n",
    "print(67//12)\n",
    "print(56329%982)\n",
    "print(34**5)"
   ]
  },
  {
   "cell_type": "markdown",
   "id": "659ccd1b",
   "metadata": {},
   "source": [
    "## Coding Exercise 3.12"
   ]
  },
  {
   "cell_type": "code",
   "execution_count": 5,
   "id": "66a7ba03",
   "metadata": {},
   "outputs": [
    {
     "name": "stdout",
     "output_type": "stream",
     "text": [
      "False\n",
      "True\n",
      "True\n",
      "True\n",
      "False\n"
     ]
    }
   ],
   "source": [
    "my_age = 22\n",
    "mom_age = 61\n",
    "sister_age = 29 \n",
    "\n",
    "print(mom_age<sister_age and my_age==22)\n",
    "print(mom_age == 61)\n",
    "print(mom_age>34 or sister_age==22)\n",
    "print(mom_age>=54)\n",
    "print(not(sister_age<=400 and my_age==22))"
   ]
  },
  {
   "cell_type": "markdown",
   "id": "17d86ca5",
   "metadata": {},
   "source": [
    "# Coding Exercise 4.4"
   ]
  },
  {
   "cell_type": "code",
   "execution_count": null,
   "id": "6aebbf82",
   "metadata": {},
   "outputs": [],
   "source": [
    "x = 332\n",
    "y = 2031\n",
    "\n",
    "if x > y:\n",
    "    print(\"x is greater than or equal to y\")\n",
    "elif x == y:\n",
    "    print(\"x is equal to y\")\n",
    "else:\n",
    "    print(\"x is less than y\")\n"
   ]
  },
  {
   "cell_type": "markdown",
   "id": "1ad762e1",
   "metadata": {},
   "source": [
    "# Coding Exercise 4.8"
   ]
  },
  {
   "cell_type": "code",
   "execution_count": null,
   "id": "cdc41407",
   "metadata": {},
   "outputs": [],
   "source": [
    "# For Loops\n",
    "furniture = [\"table\", \"chair\", \"cabinet\", \"desk\", \"couch\"]\n",
    "\n",
    "for x in furniture:\n",
    "    if x == \"cabinet\":\n",
    "        continue\n",
    "    print(x)\n",
    "\n",
    "# While Loops\n",
    "i = 1\n",
    "while(i < 15):\n",
    "    print(i)\n",
    "    i = i + 1\n",
    "else:\n",
    "    print(\"i is no longer less than 15\")"
   ]
  }
 ],
 "metadata": {
  "kernelspec": {
   "display_name": "Python 3",
   "language": "python",
   "name": "python3"
  },
  "language_info": {
   "codemirror_mode": {
    "name": "ipython",
    "version": 3
   },
   "file_extension": ".py",
   "mimetype": "text/x-python",
   "name": "python",
   "nbconvert_exporter": "python",
   "pygments_lexer": "ipython3",
   "version": "3.8.8"
  }
 },
 "nbformat": 4,
 "nbformat_minor": 5
}
